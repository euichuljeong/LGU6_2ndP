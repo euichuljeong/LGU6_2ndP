{
 "cells": [
  {
   "cell_type": "markdown",
   "id": "db1d7308-375a-4853-8e03-d6dcc900f134",
   "metadata": {},
   "source": [
    "# 파일 불러오기"
   ]
  },
  {
   "cell_type": "code",
   "execution_count": 2,
   "id": "45925613-85ba-4fad-98cf-707f08856d96",
   "metadata": {},
   "outputs": [],
   "source": [
    "import pandas as pd\n",
    "\n",
    "ratings = pd.read_csv(\n",
    "    'ratings.dat',\n",
    "    sep='::',\n",
    "    engine='python',\n",
    "    names=['user_id', 'movie_id', 'rating', 'timestamp']\n",
    ")\n",
    "\n",
    "users = pd.read_csv(\n",
    "    'users.dat',\n",
    "    sep='::',\n",
    "    engine='python',\n",
    "    names=['user_id', 'gender', 'age', 'occupation', 'zip_code']\n",
    ")\n",
    "\n",
    "movies = pd.read_csv(\n",
    "    'movies.dat',\n",
    "    sep='::',\n",
    "    engine='python',\n",
    "    encoding='latin-1',  # ✅ 이 줄만 추가하면 해결됨\n",
    "    names=['movie_id', 'title', 'genres']\n",
    ")\n"
   ]
  },
  {
   "cell_type": "markdown",
   "id": "8af9bc90-7ddf-4c8e-af59-814864934a2b",
   "metadata": {},
   "source": [
    "# 불러온 파일 체크\n"
   ]
  },
  {
   "cell_type": "code",
   "execution_count": 3,
   "id": "a234e981-92c9-4cdf-a5fb-2f3000bb34e4",
   "metadata": {},
   "outputs": [
    {
     "name": "stdout",
     "output_type": "stream",
     "text": [
      "['.ipynb_checkpoints', '.venv', 'entertainment.m3u', 'index.category.m3u', 'index.m3u', 'iptv_channels_categories.csv', 'm3u_csv_chang.py', 'movies.dat', 'ratings.dat', 'README', 'requirements.txt', 'streamlit_app.py', 'streamlit_app_02.py', 'test.ipynb', 'users.dat', '연령대별_장르_선호_및_평점.csv', '연령대별_장르_선호_및_평점_한글.csv', '연령대별_장르_채널_매핑.csv', '장르_기반_IPTV_추천_데이터.csv']\n"
     ]
    }
   ],
   "source": [
    "import os\n",
    "print(os.listdir())  # 현재 폴더에 있는 파일 목록 보기\n"
   ]
  },
  {
   "cell_type": "code",
   "execution_count": 4,
   "id": "b2a669a6-55e7-4074-a7b2-e0f26cfafc5f",
   "metadata": {},
   "outputs": [
    {
     "name": "stdout",
     "output_type": "stream",
     "text": [
      "🎬 ratings:\n",
      "    user_id  movie_id  rating  timestamp\n",
      "0        1      1193       5  978300760\n",
      "1        1       661       3  978302109\n",
      "2        1       914       3  978301968\n",
      "3        1      3408       4  978300275\n",
      "4        1      2355       5  978824291\n",
      "\n",
      "👤 users:\n",
      "    user_id gender  age  occupation zip_code\n",
      "0        1      F    1          10    48067\n",
      "1        2      M   56          16    70072\n",
      "2        3      M   25          15    55117\n",
      "3        4      M   45           7    02460\n",
      "4        5      M   25          20    55455\n",
      "\n",
      "🎞️ movies:\n",
      "    movie_id                               title                        genres\n",
      "0         1                    Toy Story (1995)   Animation|Children's|Comedy\n",
      "1         2                      Jumanji (1995)  Adventure|Children's|Fantasy\n",
      "2         3             Grumpier Old Men (1995)                Comedy|Romance\n",
      "3         4            Waiting to Exhale (1995)                  Comedy|Drama\n",
      "4         5  Father of the Bride Part II (1995)                        Comedy\n"
     ]
    }
   ],
   "source": [
    "print(\"🎬 ratings:\\n\", ratings.head())\n",
    "print(\"\\n👤 users:\\n\", users.head())\n",
    "print(\"\\n🎞️ movies:\\n\", movies.head())"
   ]
  },
  {
   "cell_type": "markdown",
   "id": "8d4f798c-4872-4627-bb68-9dd4370b4ad3",
   "metadata": {},
   "source": [
    "# 파일 합치기"
   ]
  },
  {
   "cell_type": "code",
   "execution_count": 5,
   "id": "e26986ae-ec4d-4a0d-bea2-123d1b9e4cc1",
   "metadata": {},
   "outputs": [],
   "source": [
    "df = pd.merge(ratings, users, on='user_id')\n"
   ]
  },
  {
   "cell_type": "code",
   "execution_count": 6,
   "id": "178d02ce-568c-401e-bf54-58fed56fadcf",
   "metadata": {},
   "outputs": [],
   "source": [
    "df = pd.merge(df, movies, on='movie_id')\n"
   ]
  },
  {
   "cell_type": "code",
   "execution_count": 7,
   "id": "7acc4135-17b5-447b-b48e-4422c469e066",
   "metadata": {},
   "outputs": [
    {
     "name": "stdout",
     "output_type": "stream",
     "text": [
      "   user_id  movie_id  rating  timestamp gender  age  occupation zip_code  \\\n",
      "0        1      1193       5  978300760      F    1          10    48067   \n",
      "1        1       661       3  978302109      F    1          10    48067   \n",
      "2        1       914       3  978301968      F    1          10    48067   \n",
      "3        1      3408       4  978300275      F    1          10    48067   \n",
      "4        1      2355       5  978824291      F    1          10    48067   \n",
      "\n",
      "                                    title                        genres  \n",
      "0  One Flew Over the Cuckoo's Nest (1975)                         Drama  \n",
      "1        James and the Giant Peach (1996)  Animation|Children's|Musical  \n",
      "2                     My Fair Lady (1964)               Musical|Romance  \n",
      "3                  Erin Brockovich (2000)                         Drama  \n",
      "4                    Bug's Life, A (1998)   Animation|Children's|Comedy  \n"
     ]
    }
   ],
   "source": [
    "print(df.head())\n"
   ]
  },
  {
   "cell_type": "code",
   "execution_count": 8,
   "id": "0b782884-af79-481a-985b-41310a345b77",
   "metadata": {},
   "outputs": [],
   "source": [
    "df.drop_duplicates(inplace=True)\n"
   ]
  },
  {
   "cell_type": "code",
   "execution_count": 9,
   "id": "1ea9f860-64a6-4c36-96cb-22296fe3c824",
   "metadata": {},
   "outputs": [],
   "source": [
    "summary = df.groupby(['user_id', 'movie_id'])['rating'].agg(['mean', 'count']).reset_index()\n"
   ]
  },
  {
   "cell_type": "markdown",
   "id": "a9ae80b2-01b0-43f8-9339-38fc9296ecd8",
   "metadata": {},
   "source": [
    "# 연령대 별로 분류"
   ]
  },
  {
   "cell_type": "code",
   "execution_count": 10,
   "id": "9fd82611-b9e6-4952-a312-7be0e8c112a4",
   "metadata": {},
   "outputs": [],
   "source": [
    "age_map = {\n",
    "    1: 'Under 18',\n",
    "    18: '18-24',\n",
    "    25: '25-34',\n",
    "    35: '35-44',\n",
    "    45: '45-49',\n",
    "    50: '50-55',\n",
    "    56: '56+'\n",
    "}\n",
    "\n",
    "df['age_group'] = df['age'].map(age_map)\n"
   ]
  },
  {
   "cell_type": "code",
   "execution_count": 11,
   "id": "5ad3df42-751f-4deb-94f8-0f05679a8ed3",
   "metadata": {},
   "outputs": [],
   "source": [
    "genre_by_age = df.groupby('age_group')['genres'].value_counts().unstack().fillna(0)\n"
   ]
  },
  {
   "cell_type": "code",
   "execution_count": 12,
   "id": "3833adf1-5787-44a6-8287-e1f3837c06b6",
   "metadata": {},
   "outputs": [
    {
     "name": "stdout",
     "output_type": "stream",
     "text": [
      "age_group\n",
      "18-24       3.507573\n",
      "25-34       3.545235\n",
      "35-44       3.618162\n",
      "45-49       3.638062\n",
      "50-55       3.714512\n",
      "56+         3.766632\n",
      "Under 18    3.549520\n",
      "Name: rating, dtype: float64\n"
     ]
    }
   ],
   "source": [
    "avg_rating_by_age = df.groupby('age_group')['rating'].mean().sort_index()\n",
    "print(avg_rating_by_age)\n"
   ]
  },
  {
   "cell_type": "code",
   "execution_count": 13,
   "id": "7c86c6c6-3aa4-4b6b-87b2-392f837b75ea",
   "metadata": {},
   "outputs": [],
   "source": [
    "senior_df = df[df['age'] >= 50]\n"
   ]
  },
  {
   "cell_type": "code",
   "execution_count": 14,
   "id": "250379bd-37a7-4ebe-b544-f9fb4b54ddfd",
   "metadata": {},
   "outputs": [
    {
     "data": {
      "text/html": [
       "<div>\n",
       "<style scoped>\n",
       "    .dataframe tbody tr th:only-of-type {\n",
       "        vertical-align: middle;\n",
       "    }\n",
       "\n",
       "    .dataframe tbody tr th {\n",
       "        vertical-align: top;\n",
       "    }\n",
       "\n",
       "    .dataframe thead th {\n",
       "        text-align: right;\n",
       "    }\n",
       "</style>\n",
       "<table border=\"1\" class=\"dataframe\">\n",
       "  <thead>\n",
       "    <tr style=\"text-align: right;\">\n",
       "      <th></th>\n",
       "      <th>user_id</th>\n",
       "      <th>movie_id</th>\n",
       "      <th>rating</th>\n",
       "      <th>timestamp</th>\n",
       "      <th>gender</th>\n",
       "      <th>age</th>\n",
       "      <th>occupation</th>\n",
       "      <th>zip_code</th>\n",
       "      <th>title</th>\n",
       "      <th>genres</th>\n",
       "      <th>age_group</th>\n",
       "    </tr>\n",
       "  </thead>\n",
       "  <tbody>\n",
       "    <tr>\n",
       "      <th>0</th>\n",
       "      <td>1</td>\n",
       "      <td>1193</td>\n",
       "      <td>5</td>\n",
       "      <td>978300760</td>\n",
       "      <td>F</td>\n",
       "      <td>1</td>\n",
       "      <td>10</td>\n",
       "      <td>48067</td>\n",
       "      <td>One Flew Over the Cuckoo's Nest (1975)</td>\n",
       "      <td>Drama</td>\n",
       "      <td>Under 18</td>\n",
       "    </tr>\n",
       "    <tr>\n",
       "      <th>1</th>\n",
       "      <td>1</td>\n",
       "      <td>661</td>\n",
       "      <td>3</td>\n",
       "      <td>978302109</td>\n",
       "      <td>F</td>\n",
       "      <td>1</td>\n",
       "      <td>10</td>\n",
       "      <td>48067</td>\n",
       "      <td>James and the Giant Peach (1996)</td>\n",
       "      <td>Animation|Children's|Musical</td>\n",
       "      <td>Under 18</td>\n",
       "    </tr>\n",
       "    <tr>\n",
       "      <th>2</th>\n",
       "      <td>1</td>\n",
       "      <td>914</td>\n",
       "      <td>3</td>\n",
       "      <td>978301968</td>\n",
       "      <td>F</td>\n",
       "      <td>1</td>\n",
       "      <td>10</td>\n",
       "      <td>48067</td>\n",
       "      <td>My Fair Lady (1964)</td>\n",
       "      <td>Musical|Romance</td>\n",
       "      <td>Under 18</td>\n",
       "    </tr>\n",
       "    <tr>\n",
       "      <th>3</th>\n",
       "      <td>1</td>\n",
       "      <td>3408</td>\n",
       "      <td>4</td>\n",
       "      <td>978300275</td>\n",
       "      <td>F</td>\n",
       "      <td>1</td>\n",
       "      <td>10</td>\n",
       "      <td>48067</td>\n",
       "      <td>Erin Brockovich (2000)</td>\n",
       "      <td>Drama</td>\n",
       "      <td>Under 18</td>\n",
       "    </tr>\n",
       "    <tr>\n",
       "      <th>4</th>\n",
       "      <td>1</td>\n",
       "      <td>2355</td>\n",
       "      <td>5</td>\n",
       "      <td>978824291</td>\n",
       "      <td>F</td>\n",
       "      <td>1</td>\n",
       "      <td>10</td>\n",
       "      <td>48067</td>\n",
       "      <td>Bug's Life, A (1998)</td>\n",
       "      <td>Animation|Children's|Comedy</td>\n",
       "      <td>Under 18</td>\n",
       "    </tr>\n",
       "  </tbody>\n",
       "</table>\n",
       "</div>"
      ],
      "text/plain": [
       "   user_id  movie_id  rating  timestamp gender  age  occupation zip_code  \\\n",
       "0        1      1193       5  978300760      F    1          10    48067   \n",
       "1        1       661       3  978302109      F    1          10    48067   \n",
       "2        1       914       3  978301968      F    1          10    48067   \n",
       "3        1      3408       4  978300275      F    1          10    48067   \n",
       "4        1      2355       5  978824291      F    1          10    48067   \n",
       "\n",
       "                                    title                        genres  \\\n",
       "0  One Flew Over the Cuckoo's Nest (1975)                         Drama   \n",
       "1        James and the Giant Peach (1996)  Animation|Children's|Musical   \n",
       "2                     My Fair Lady (1964)               Musical|Romance   \n",
       "3                  Erin Brockovich (2000)                         Drama   \n",
       "4                    Bug's Life, A (1998)   Animation|Children's|Comedy   \n",
       "\n",
       "  age_group  \n",
       "0  Under 18  \n",
       "1  Under 18  \n",
       "2  Under 18  \n",
       "3  Under 18  \n",
       "4  Under 18  "
      ]
     },
     "execution_count": 14,
     "metadata": {},
     "output_type": "execute_result"
    }
   ],
   "source": [
    "df.head()"
   ]
  },
  {
   "cell_type": "markdown",
   "id": "58daa1aa-d248-42a0-bffd-0cfe9648b54e",
   "metadata": {},
   "source": [
    "# csv파일로 내보내기"
   ]
  },
  {
   "cell_type": "code",
   "execution_count": 15,
   "id": "53df4766-e58a-4802-9034-9a6db3ae2249",
   "metadata": {},
   "outputs": [],
   "source": [
    "import pandas as pd\n",
    "\n",
    "# ✔️ 연령대 매핑\n",
    "age_map = {\n",
    "    1: '18세 미만',\n",
    "    18: '18-24세',\n",
    "    25: '25-34세',\n",
    "    35: '35-44세',\n",
    "    45: '45-49세',\n",
    "    50: '50-55세',\n",
    "    56: '56세 이상'\n",
    "}\n",
    "df['연령대'] = df['age'].map(age_map)\n",
    "\n",
    "# ✔️ 장르 분해\n",
    "df_exploded = df.copy()\n",
    "df_exploded['장르'] = df_exploded['genres'].str.split('|')\n",
    "df_exploded = df_exploded.explode('장르')\n",
    "\n",
    "# ✔️ 한글 장르 매핑\n",
    "genre_map = {\n",
    "    'Action': '액션', 'Adventure': '모험', 'Animation': '애니메이션', \"Children's\": '아동',\n",
    "    'Comedy': '코미디', 'Crime': '범죄', 'Documentary': '다큐멘터리', 'Drama': '드라마',\n",
    "    'Fantasy': '판타지', 'Film-Noir': '느와르', 'Horror': '공포', 'Musical': '뮤지컬',\n",
    "    'Mystery': '미스터리', 'Romance': '로맨스', 'Sci-Fi': 'SF', 'Thriller': '스릴러',\n",
    "    'War': '전쟁', 'Western': '서부'\n",
    "}\n",
    "df_exploded['장르'] = df_exploded['장르'].map(genre_map)\n",
    "df_exploded = df_exploded.dropna(subset=['장르'])\n",
    "\n",
    "# ✔️ 연령대-장르별 통계\n",
    "genre_summary = df_exploded.groupby(['연령대', '장르']).agg(\n",
    "    시청수=('rating', 'count'),\n",
    "    평균평점=('rating', 'mean')\n",
    ").reset_index()\n",
    "\n",
    "# ✔️ 저장\n",
    "genre_summary.to_csv(\"연령대별_장르_선호_및_평점_한글.csv\", index=False)\n"
   ]
  },
  {
   "cell_type": "markdown",
   "id": "bcd5620a-11fe-4451-bd99-6929166f03d5",
   "metadata": {},
   "source": [
    "# 파일 병합"
   ]
  },
  {
   "cell_type": "code",
   "execution_count": 21,
   "id": "0f11f9d9-8845-4726-b8bd-01e74a9675f4",
   "metadata": {},
   "outputs": [],
   "source": [
    "import pandas as pd\n",
    "\n",
    "# 📥 IPTV 채널 데이터 로드\n",
    "iptv_df = pd.read_csv(\"iptv_channels_categories.csv\")\n",
    "\n",
    "# ✅ 영어 장르 → 한글 매핑 테이블\n",
    "genre_mapping = {\n",
    "    \"Animation\": \"애니메이션\",\n",
    "    \"Comedy\": \"코미디\",\n",
    "    \"Documentary\": \"다큐멘터리\",\n",
    "    \"Kids\": \"아동\",\n",
    "    \"Music\": \"뮤지컬\",\n",
    "    # ⚠️ 아래 장르들은 기존 영화 데이터에 없으므로 제외\n",
    "    \"News\": None, \"Sports\": None, \"Entertainment\": None, \"Series\": None,\n",
    "    \"Movies\": None, \"General\": None, \"Lifestyle\": None, \"Undefined\": None\n",
    "}\n",
    "\n",
    "# ✅ 장르 컬럼 매핑\n",
    "iptv_df[\"장르\"] = iptv_df[\"category\"].map(genre_mapping)\n",
    "\n",
    "# ✅ 필요한 컬럼만 정리\n",
    "iptv_df = iptv_df[[\"channel_name\", \"장르\"]].dropna()\n",
    "\n",
    "# 💾 저장 (필요하면 추가 컬럼도 포함 가능)\n",
    "iptv_df.to_csv(\"iptv_channels_categories_한글매핑.csv\", index=False)\n"
   ]
  },
  {
   "cell_type": "code",
   "execution_count": 20,
   "id": "01dba71a-1c87-46f1-9c54-eda326c773c9",
   "metadata": {},
   "outputs": [
    {
     "name": "stdout",
     "output_type": "stream",
     "text": [
      "Index(['channel_name', 'category'], dtype='object')\n"
     ]
    }
   ],
   "source": [
    "print(iptv_df.columns)\n"
   ]
  }
 ],
 "metadata": {
  "kernelspec": {
   "display_name": "Python 3 (ipykernel)",
   "language": "python",
   "name": "python3"
  },
  "language_info": {
   "codemirror_mode": {
    "name": "ipython",
    "version": 3
   },
   "file_extension": ".py",
   "mimetype": "text/x-python",
   "name": "python",
   "nbconvert_exporter": "python",
   "pygments_lexer": "ipython3",
   "version": "3.11.12"
  }
 },
 "nbformat": 4,
 "nbformat_minor": 5
}
