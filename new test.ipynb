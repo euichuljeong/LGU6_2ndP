{
 "cells": [
  {
   "cell_type": "markdown",
   "id": "ff97f37e-44b0-4fc0-b7d7-37424a81b061",
   "metadata": {},
   "source": [
    "# 데이터 병합 및 전처리"
   ]
  },
  {
   "cell_type": "code",
   "execution_count": 2,
   "id": "4f6abfd6-83df-47bf-aa62-b4e229fe6a0c",
   "metadata": {},
   "outputs": [],
   "source": [
    "import pandas as pd\n",
    "\n",
    "import pandas as pd\n",
    "\n",
    "# 인코딩을 명시적으로 지정해줘야 함\n",
    "movies = pd.read_csv(\"movies.dat\", sep=\"::\", engine=\"python\", encoding=\"latin1\",\n",
    "                     names=[\"movie_id\", \"title\", \"genres\"])\n",
    "ratings = pd.read_csv(\"ratings.dat\", sep=\"::\", engine=\"python\", encoding=\"latin1\",\n",
    "                      names=[\"user_id\", \"movie_id\", \"rating\", \"timestamp\"])\n",
    "users = pd.read_csv(\"users.dat\", sep=\"::\", engine=\"python\", encoding=\"latin1\",\n",
    "                    names=[\"user_id\", \"gender\", \"age\", \"occupation\", \"zip_code\"])\n",
    "\n",
    "\n",
    "# 연령 매핑\n",
    "age_map = {\n",
    "    1: \"Under 18\", 18: \"18-24\", 25: \"25-34\",\n",
    "    35: \"35-44\", 45: \"45-49\", 50: \"50-55\", 56: \"56+\"\n",
    "}\n",
    "users[\"age_group\"] = users[\"age\"].map(age_map)\n",
    "\n",
    "# 병합\n",
    "df = ratings.merge(users, on=\"user_id\").merge(movies, on=\"movie_id\")\n",
    "\n",
    "# 장르 분리\n",
    "df_exploded = df.copy()\n",
    "df_exploded[\"genres\"] = df_exploded[\"genres\"].str.split(\"|\")\n",
    "df_exploded = df_exploded.explode(\"genres\")\n",
    "\n",
    "# 연령대별 장르별 통계\n",
    "summary = df_exploded.groupby([\"age_group\", \"genres\"]).agg(\n",
    "    watch_count=(\"rating\", \"count\"),\n",
    "    avg_rating=(\"rating\", \"mean\")\n",
    ").reset_index()\n",
    "\n",
    "# 저장\n",
    "summary.to_csv(\"연령대별_장르_선호_및_평점.csv\", index=False)\n"
   ]
  }
 ],
 "metadata": {
  "kernelspec": {
   "display_name": "Python 3 (ipykernel)",
   "language": "python",
   "name": "python3"
  },
  "language_info": {
   "codemirror_mode": {
    "name": "ipython",
    "version": 3
   },
   "file_extension": ".py",
   "mimetype": "text/x-python",
   "name": "python",
   "nbconvert_exporter": "python",
   "pygments_lexer": "ipython3",
   "version": "3.11.12"
  }
 },
 "nbformat": 4,
 "nbformat_minor": 5
}
