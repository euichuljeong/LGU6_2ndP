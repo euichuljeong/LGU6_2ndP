{
 "cells": [
  {
   "cell_type": "markdown",
   "id": "db1d7308-375a-4853-8e03-d6dcc900f134",
   "metadata": {},
   "source": [
    "# 파일 불러오기"
   ]
  },
  {
   "cell_type": "code",
   "execution_count": 4,
   "id": "45925613-85ba-4fad-98cf-707f08856d96",
   "metadata": {},
   "outputs": [],
   "source": [
    "import pandas as pd\n",
    "\n",
    "ratings = pd.read_csv(\n",
    "    'ratings.dat',\n",
    "    sep='::',\n",
    "    engine='python',\n",
    "    names=['user_id', 'movie_id', 'rating', 'timestamp']\n",
    ")\n",
    "\n",
    "users = pd.read_csv(\n",
    "    'users.dat',\n",
    "    sep='::',\n",
    "    engine='python',\n",
    "    names=['user_id', 'gender', 'age', 'occupation', 'zip_code']\n",
    ")\n",
    "\n",
    "movies = pd.read_csv(\n",
    "    'movies.dat',\n",
    "    sep='::',\n",
    "    engine='python',\n",
    "    encoding='latin-1',  # ✅ 이 줄만 추가하면 해결됨\n",
    "    names=['movie_id', 'title', 'genres']\n",
    ")\n"
   ]
  },
  {
   "cell_type": "markdown",
   "id": "8af9bc90-7ddf-4c8e-af59-814864934a2b",
   "metadata": {},
   "source": [
    "# 불러온 파일 체크\n"
   ]
  },
  {
   "cell_type": "code",
   "execution_count": 5,
   "id": "a234e981-92c9-4cdf-a5fb-2f3000bb34e4",
   "metadata": {},
   "outputs": [
    {
     "name": "stdout",
     "output_type": "stream",
     "text": [
      "['.ipynb_checkpoints', '.venv', 'movies.dat', 'ratings.dat', 'README', 'requirements.txt', 'test.ipynb', 'users.dat', '연령대별_장르_선호_및_평점.csv']\n"
     ]
    }
   ],
   "source": [
    "import os\n",
    "print(os.listdir())  # 현재 폴더에 있는 파일 목록 보기\n"
   ]
  },
  {
   "cell_type": "code",
   "execution_count": 6,
   "id": "b2a669a6-55e7-4074-a7b2-e0f26cfafc5f",
   "metadata": {},
   "outputs": [
    {
     "name": "stdout",
     "output_type": "stream",
     "text": [
      "🎬 ratings:\n",
      "    user_id  movie_id  rating  timestamp\n",
      "0        1      1193       5  978300760\n",
      "1        1       661       3  978302109\n",
      "2        1       914       3  978301968\n",
      "3        1      3408       4  978300275\n",
      "4        1      2355       5  978824291\n",
      "\n",
      "👤 users:\n",
      "    user_id gender  age  occupation zip_code\n",
      "0        1      F    1          10    48067\n",
      "1        2      M   56          16    70072\n",
      "2        3      M   25          15    55117\n",
      "3        4      M   45           7    02460\n",
      "4        5      M   25          20    55455\n",
      "\n",
      "🎞️ movies:\n",
      "    movie_id                               title                        genres\n",
      "0         1                    Toy Story (1995)   Animation|Children's|Comedy\n",
      "1         2                      Jumanji (1995)  Adventure|Children's|Fantasy\n",
      "2         3             Grumpier Old Men (1995)                Comedy|Romance\n",
      "3         4            Waiting to Exhale (1995)                  Comedy|Drama\n",
      "4         5  Father of the Bride Part II (1995)                        Comedy\n"
     ]
    }
   ],
   "source": [
    "print(\"🎬 ratings:\\n\", ratings.head())\n",
    "print(\"\\n👤 users:\\n\", users.head())\n",
    "print(\"\\n🎞️ movies:\\n\", movies.head())"
   ]
  },
  {
   "cell_type": "markdown",
   "id": "8d4f798c-4872-4627-bb68-9dd4370b4ad3",
   "metadata": {},
   "source": [
    "# 파일 합치기"
   ]
  },
  {
   "cell_type": "code",
   "execution_count": 7,
   "id": "e26986ae-ec4d-4a0d-bea2-123d1b9e4cc1",
   "metadata": {},
   "outputs": [],
   "source": [
    "df = pd.merge(ratings, users, on='user_id')\n"
   ]
  },
  {
   "cell_type": "code",
   "execution_count": 8,
   "id": "178d02ce-568c-401e-bf54-58fed56fadcf",
   "metadata": {},
   "outputs": [],
   "source": [
    "df = pd.merge(df, movies, on='movie_id')\n"
   ]
  },
  {
   "cell_type": "code",
   "execution_count": 9,
   "id": "7acc4135-17b5-447b-b48e-4422c469e066",
   "metadata": {},
   "outputs": [
    {
     "name": "stdout",
     "output_type": "stream",
     "text": [
      "   user_id  movie_id  rating  timestamp gender  age  occupation zip_code  \\\n",
      "0        1      1193       5  978300760      F    1          10    48067   \n",
      "1        1       661       3  978302109      F    1          10    48067   \n",
      "2        1       914       3  978301968      F    1          10    48067   \n",
      "3        1      3408       4  978300275      F    1          10    48067   \n",
      "4        1      2355       5  978824291      F    1          10    48067   \n",
      "\n",
      "                                    title                        genres  \n",
      "0  One Flew Over the Cuckoo's Nest (1975)                         Drama  \n",
      "1        James and the Giant Peach (1996)  Animation|Children's|Musical  \n",
      "2                     My Fair Lady (1964)               Musical|Romance  \n",
      "3                  Erin Brockovich (2000)                         Drama  \n",
      "4                    Bug's Life, A (1998)   Animation|Children's|Comedy  \n"
     ]
    }
   ],
   "source": [
    "print(df.head())\n"
   ]
  },
  {
   "cell_type": "code",
   "execution_count": 10,
   "id": "0b782884-af79-481a-985b-41310a345b77",
   "metadata": {},
   "outputs": [],
   "source": [
    "df.drop_duplicates(inplace=True)\n"
   ]
  },
  {
   "cell_type": "code",
   "execution_count": 11,
   "id": "1ea9f860-64a6-4c36-96cb-22296fe3c824",
   "metadata": {},
   "outputs": [],
   "source": [
    "summary = df.groupby(['user_id', 'movie_id'])['rating'].agg(['mean', 'count']).reset_index()\n"
   ]
  },
  {
   "cell_type": "markdown",
   "id": "a9ae80b2-01b0-43f8-9339-38fc9296ecd8",
   "metadata": {},
   "source": [
    "# 연령대 별로 분류"
   ]
  },
  {
   "cell_type": "code",
   "execution_count": 12,
   "id": "9fd82611-b9e6-4952-a312-7be0e8c112a4",
   "metadata": {},
   "outputs": [],
   "source": [
    "age_map = {\n",
    "    1: 'Under 18',\n",
    "    18: '18-24',\n",
    "    25: '25-34',\n",
    "    35: '35-44',\n",
    "    45: '45-49',\n",
    "    50: '50-55',\n",
    "    56: '56+'\n",
    "}\n",
    "\n",
    "df['age_group'] = df['age'].map(age_map)\n"
   ]
  },
  {
   "cell_type": "code",
   "execution_count": 13,
   "id": "5ad3df42-751f-4deb-94f8-0f05679a8ed3",
   "metadata": {},
   "outputs": [],
   "source": [
    "genre_by_age = df.groupby('age_group')['genres'].value_counts().unstack().fillna(0)\n"
   ]
  },
  {
   "cell_type": "code",
   "execution_count": 14,
   "id": "3833adf1-5787-44a6-8287-e1f3837c06b6",
   "metadata": {},
   "outputs": [
    {
     "name": "stdout",
     "output_type": "stream",
     "text": [
      "age_group\n",
      "18-24       3.507573\n",
      "25-34       3.545235\n",
      "35-44       3.618162\n",
      "45-49       3.638062\n",
      "50-55       3.714512\n",
      "56+         3.766632\n",
      "Under 18    3.549520\n",
      "Name: rating, dtype: float64\n"
     ]
    }
   ],
   "source": [
    "avg_rating_by_age = df.groupby('age_group')['rating'].mean().sort_index()\n",
    "print(avg_rating_by_age)\n"
   ]
  },
  {
   "cell_type": "code",
   "execution_count": 15,
   "id": "7c86c6c6-3aa4-4b6b-87b2-392f837b75ea",
   "metadata": {},
   "outputs": [],
   "source": [
    "senior_df = df[df['age'] >= 50]\n"
   ]
  },
  {
   "cell_type": "code",
   "execution_count": 16,
   "id": "250379bd-37a7-4ebe-b544-f9fb4b54ddfd",
   "metadata": {},
   "outputs": [
    {
     "data": {
      "text/html": [
       "<div>\n",
       "<style scoped>\n",
       "    .dataframe tbody tr th:only-of-type {\n",
       "        vertical-align: middle;\n",
       "    }\n",
       "\n",
       "    .dataframe tbody tr th {\n",
       "        vertical-align: top;\n",
       "    }\n",
       "\n",
       "    .dataframe thead th {\n",
       "        text-align: right;\n",
       "    }\n",
       "</style>\n",
       "<table border=\"1\" class=\"dataframe\">\n",
       "  <thead>\n",
       "    <tr style=\"text-align: right;\">\n",
       "      <th></th>\n",
       "      <th>user_id</th>\n",
       "      <th>movie_id</th>\n",
       "      <th>rating</th>\n",
       "      <th>timestamp</th>\n",
       "      <th>gender</th>\n",
       "      <th>age</th>\n",
       "      <th>occupation</th>\n",
       "      <th>zip_code</th>\n",
       "      <th>title</th>\n",
       "      <th>genres</th>\n",
       "      <th>age_group</th>\n",
       "    </tr>\n",
       "  </thead>\n",
       "  <tbody>\n",
       "    <tr>\n",
       "      <th>0</th>\n",
       "      <td>1</td>\n",
       "      <td>1193</td>\n",
       "      <td>5</td>\n",
       "      <td>978300760</td>\n",
       "      <td>F</td>\n",
       "      <td>1</td>\n",
       "      <td>10</td>\n",
       "      <td>48067</td>\n",
       "      <td>One Flew Over the Cuckoo's Nest (1975)</td>\n",
       "      <td>Drama</td>\n",
       "      <td>Under 18</td>\n",
       "    </tr>\n",
       "    <tr>\n",
       "      <th>1</th>\n",
       "      <td>1</td>\n",
       "      <td>661</td>\n",
       "      <td>3</td>\n",
       "      <td>978302109</td>\n",
       "      <td>F</td>\n",
       "      <td>1</td>\n",
       "      <td>10</td>\n",
       "      <td>48067</td>\n",
       "      <td>James and the Giant Peach (1996)</td>\n",
       "      <td>Animation|Children's|Musical</td>\n",
       "      <td>Under 18</td>\n",
       "    </tr>\n",
       "    <tr>\n",
       "      <th>2</th>\n",
       "      <td>1</td>\n",
       "      <td>914</td>\n",
       "      <td>3</td>\n",
       "      <td>978301968</td>\n",
       "      <td>F</td>\n",
       "      <td>1</td>\n",
       "      <td>10</td>\n",
       "      <td>48067</td>\n",
       "      <td>My Fair Lady (1964)</td>\n",
       "      <td>Musical|Romance</td>\n",
       "      <td>Under 18</td>\n",
       "    </tr>\n",
       "    <tr>\n",
       "      <th>3</th>\n",
       "      <td>1</td>\n",
       "      <td>3408</td>\n",
       "      <td>4</td>\n",
       "      <td>978300275</td>\n",
       "      <td>F</td>\n",
       "      <td>1</td>\n",
       "      <td>10</td>\n",
       "      <td>48067</td>\n",
       "      <td>Erin Brockovich (2000)</td>\n",
       "      <td>Drama</td>\n",
       "      <td>Under 18</td>\n",
       "    </tr>\n",
       "    <tr>\n",
       "      <th>4</th>\n",
       "      <td>1</td>\n",
       "      <td>2355</td>\n",
       "      <td>5</td>\n",
       "      <td>978824291</td>\n",
       "      <td>F</td>\n",
       "      <td>1</td>\n",
       "      <td>10</td>\n",
       "      <td>48067</td>\n",
       "      <td>Bug's Life, A (1998)</td>\n",
       "      <td>Animation|Children's|Comedy</td>\n",
       "      <td>Under 18</td>\n",
       "    </tr>\n",
       "  </tbody>\n",
       "</table>\n",
       "</div>"
      ],
      "text/plain": [
       "   user_id  movie_id  rating  timestamp gender  age  occupation zip_code  \\\n",
       "0        1      1193       5  978300760      F    1          10    48067   \n",
       "1        1       661       3  978302109      F    1          10    48067   \n",
       "2        1       914       3  978301968      F    1          10    48067   \n",
       "3        1      3408       4  978300275      F    1          10    48067   \n",
       "4        1      2355       5  978824291      F    1          10    48067   \n",
       "\n",
       "                                    title                        genres  \\\n",
       "0  One Flew Over the Cuckoo's Nest (1975)                         Drama   \n",
       "1        James and the Giant Peach (1996)  Animation|Children's|Musical   \n",
       "2                     My Fair Lady (1964)               Musical|Romance   \n",
       "3                  Erin Brockovich (2000)                         Drama   \n",
       "4                    Bug's Life, A (1998)   Animation|Children's|Comedy   \n",
       "\n",
       "  age_group  \n",
       "0  Under 18  \n",
       "1  Under 18  \n",
       "2  Under 18  \n",
       "3  Under 18  \n",
       "4  Under 18  "
      ]
     },
     "execution_count": 16,
     "metadata": {},
     "output_type": "execute_result"
    }
   ],
   "source": [
    "df.head()"
   ]
  },
  {
   "cell_type": "markdown",
   "id": "58daa1aa-d248-42a0-bffd-0cfe9648b54e",
   "metadata": {},
   "source": [
    "# csv파일로 내보내기"
   ]
  },
  {
   "cell_type": "code",
   "execution_count": 23,
   "id": "53df4766-e58a-4802-9034-9a6db3ae2249",
   "metadata": {},
   "outputs": [
    {
     "name": "stdout",
     "output_type": "stream",
     "text": [
      "  age_group      genres  watch_count  avg_rating\n",
      "0     18-24      Action        50186    3.447097\n",
      "1     18-24   Adventure        26324    3.408525\n",
      "2     18-24   Animation        10269    3.624014\n",
      "3     18-24  Children's        16924    3.294257\n",
      "4     18-24      Comedy        69980    3.460417\n"
     ]
    }
   ],
   "source": [
    "\n",
    "# 👉 먼저 df는 ratings + users + movies를 merge해서 만든 통합 데이터프레임이어야 함\n",
    "# 👉 그리고 df에는 'age', 'rating', 'genres' 컬럼이 반드시 있어야 함\n",
    "\n",
    "# ✅ 연령 코드 → 연령대 텍스트 매핑\n",
    "age_map = {\n",
    "    1: 'Under 18',\n",
    "    18: '18-24',\n",
    "    25: '25-34',\n",
    "    35: '35-44',\n",
    "    45: '45-49',\n",
    "    50: '50-55',\n",
    "    56: '56+'\n",
    "}\n",
    "df['age_group'] = df['age'].map(age_map)\n",
    "\n",
    "# ✅ 장르를 분리 (Animation|Children's → Animation, Children's)\n",
    "df_exploded = df.copy()\n",
    "df_exploded['genres'] = df_exploded['genres'].str.split('|')\n",
    "df_exploded = df_exploded.explode('genres')\n",
    "\n",
    "# ✅ 연령대별 장르별 시청 수 및 평균 평점\n",
    "genre_summary = df_exploded.groupby(['age_group', 'genres']).agg(\n",
    "    watch_count=('rating', 'count'),\n",
    "    avg_rating=('rating', 'mean')\n",
    ").reset_index()\n",
    "\n",
    "# ✅ CSV로 저장\n",
    "genre_summary.to_csv(\"연령대별_장르_선호_및_평점.csv\", index=False)\n",
    "\n",
    "# 확인용 출력 (선택)\n",
    "print(genre_summary.head())\n"
   ]
  }
 ],
 "metadata": {
  "kernelspec": {
   "display_name": "Python 3 (ipykernel)",
   "language": "python",
   "name": "python3"
  },
  "language_info": {
   "codemirror_mode": {
    "name": "ipython",
    "version": 3
   },
   "file_extension": ".py",
   "mimetype": "text/x-python",
   "name": "python",
   "nbconvert_exporter": "python",
   "pygments_lexer": "ipython3",
   "version": "3.11.12"
  }
 },
 "nbformat": 4,
 "nbformat_minor": 5
}
